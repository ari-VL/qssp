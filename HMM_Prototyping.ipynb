{
 "cells": [
  {
   "cell_type": "code",
   "execution_count": 2,
   "metadata": {},
   "outputs": [],
   "source": [
    "import numpy as np\n",
    "import scipy.linalg as la\n",
    "from scipy.stats import entropy "
   ]
  },
  {
   "cell_type": "code",
   "execution_count": 19,
   "metadata": {},
   "outputs": [],
   "source": [
    "class HMM:\n",
    "    '''\n",
    "    Ts : np.array,\n",
    "    list of labled transition matrices\n",
    "    '''\n",
    "    def __init__(self, Ts, init=None): \n",
    "        self.Ts = Ts\n",
    "        self.init = init\n",
    "        if init==None:\n",
    "            #TODO: calculate pi\n",
    "            pass\n",
    "        self.alphabet= np.arange(len(Ts))\n",
    "        self.states = np.arange(len(Ts[0]))\n",
    "    \n",
    "    def all_words(L):\n",
    "        #David\n",
    "        pass\n",
    "    \n",
    "    def sample_words(n_words, L):\n",
    "        #David\n",
    "        pass\n",
    "        \n",
    "    def stationary_distribution():\n",
    "        #A\n",
    "        pass\n",
    "    \n",
    "    def state_entropy():\n",
    "        #A\n",
    "        #of the stationary distribution\n",
    "        pass\n",
    "    \n",
    "    def block_entropies(lengths):\n",
    "        #D\n",
    "        pass\n",
    "    \n",
    "    def entropy_rate_approx(lengths):\n",
    "        #D\n",
    "        pass\n",
    "    \n",
    "    def is_unifilar():\n",
    "        #A\n",
    "        pass\n",
    "    \n",
    "    def excess_entropy():\n",
    "        pass\n",
    "    \n",
    "#Can add other info measures"
   ]
  },
  {
   "cell_type": "code",
   "execution_count": null,
   "metadata": {},
   "outputs": [],
   "source": []
  }
 ],
 "metadata": {
  "kernelspec": {
   "display_name": "Python 3",
   "language": "python",
   "name": "python3"
  },
  "language_info": {
   "codemirror_mode": {
    "name": "ipython",
    "version": 3
   },
   "file_extension": ".py",
   "mimetype": "text/x-python",
   "name": "python",
   "nbconvert_exporter": "python",
   "pygments_lexer": "ipython3",
   "version": "3.7.4"
  }
 },
 "nbformat": 4,
 "nbformat_minor": 2
}
